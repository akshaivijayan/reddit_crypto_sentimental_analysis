{
 "cells": [
  {
   "cell_type": "code",
   "execution_count": 1,
   "id": "800937d9-88ea-4ccd-82f0-2726d512e98e",
   "metadata": {},
   "outputs": [],
   "source": [
    "import praw\n",
    "import pandas as pd\n",
    "from datetime import datetime\n",
    "import re\n",
    "from textblob import TextBlob\n",
    "from wordcloud import WordCloud, STOPWORDS\n",
    "from textblob import TextBlob\n",
    "import spacy"
   ]
  },
  {
   "cell_type": "code",
   "execution_count": 2,
   "id": "909c8683-5e4f-4624-98a4-eac7709ba625",
   "metadata": {},
   "outputs": [],
   "source": [
    "reddit = praw.Reddit(client_id='57sReOENpor__WmnpdQAFw', client_secret='4i6Xk64hQI7haFKA2JKBDfOjA2L1Vg', user_agent='WebScraping')"
   ]
  },
  {
   "cell_type": "code",
   "execution_count": 3,
   "id": "d882ee29-38a9-4cd1-8275-6df776155f2a",
   "metadata": {},
   "outputs": [
    {
     "data": {
      "text/html": [
       "<div>\n",
       "<style scoped>\n",
       "    .dataframe tbody tr th:only-of-type {\n",
       "        vertical-align: middle;\n",
       "    }\n",
       "\n",
       "    .dataframe tbody tr th {\n",
       "        vertical-align: top;\n",
       "    }\n",
       "\n",
       "    .dataframe thead th {\n",
       "        text-align: right;\n",
       "    }\n",
       "</style>\n",
       "<table border=\"1\" class=\"dataframe\">\n",
       "  <thead>\n",
       "    <tr style=\"text-align: right;\">\n",
       "      <th></th>\n",
       "      <th>Titles</th>\n",
       "    </tr>\n",
       "  </thead>\n",
       "  <tbody>\n",
       "    <tr>\n",
       "      <th>0</th>\n",
       "      <td>What is the difference between the liquid side...</td>\n",
       "    </tr>\n",
       "    <tr>\n",
       "      <th>1</th>\n",
       "      <td>Why are QR codes of the same address not ident...</td>\n",
       "    </tr>\n",
       "    <tr>\n",
       "      <th>2</th>\n",
       "      <td>RIP Charlie (rat poison) Munger</td>\n",
       "    </tr>\n",
       "    <tr>\n",
       "      <th>3</th>\n",
       "      <td>Charlie Munger dies at age 99</td>\n",
       "    </tr>\n",
       "    <tr>\n",
       "      <th>4</th>\n",
       "      <td>Self Custodial Lightning Wallets</td>\n",
       "    </tr>\n",
       "    <tr>\n",
       "      <th>...</th>\n",
       "      <td>...</td>\n",
       "    </tr>\n",
       "    <tr>\n",
       "      <th>195</th>\n",
       "      <td>What do you do if your wallet 10x’s and is now...</td>\n",
       "    </tr>\n",
       "    <tr>\n",
       "      <th>196</th>\n",
       "      <td>Could use a little advice :)</td>\n",
       "    </tr>\n",
       "    <tr>\n",
       "      <th>197</th>\n",
       "      <td>Bitcoin mining is the best way to accumulate s...</td>\n",
       "    </tr>\n",
       "    <tr>\n",
       "      <th>198</th>\n",
       "      <td>Bitcoin (COIN: $BTC) Reaches New 52-Week Highs</td>\n",
       "    </tr>\n",
       "    <tr>\n",
       "      <th>199</th>\n",
       "      <td>Creating a transaction with multiple inputs an...</td>\n",
       "    </tr>\n",
       "  </tbody>\n",
       "</table>\n",
       "<p>200 rows × 1 columns</p>\n",
       "</div>"
      ],
      "text/plain": [
       "                                                Titles\n",
       "0    What is the difference between the liquid side...\n",
       "1    Why are QR codes of the same address not ident...\n",
       "2                      RIP Charlie (rat poison) Munger\n",
       "3                        Charlie Munger dies at age 99\n",
       "4                     Self Custodial Lightning Wallets\n",
       "..                                                 ...\n",
       "195  What do you do if your wallet 10x’s and is now...\n",
       "196                       Could use a little advice :)\n",
       "197  Bitcoin mining is the best way to accumulate s...\n",
       "198     Bitcoin (COIN: $BTC) Reaches New 52-Week Highs\n",
       "199  Creating a transaction with multiple inputs an...\n",
       "\n",
       "[200 rows x 1 columns]"
      ]
     },
     "execution_count": 3,
     "metadata": {},
     "output_type": "execute_result"
    }
   ],
   "source": [
    "ml_subreddit = reddit.subreddit('bitcoin')\n",
    "\n",
    "# Retrieve posts from the subreddit\n",
    "posts = ml_subreddit.new(limit=200)  \n",
    "\n",
    "# Create a list to store the post data\n",
    "post_data = []\n",
    "\n",
    "# Iterate over the posts and extract relevant information\n",
    "for post in posts:\n",
    "    post_data.append({\n",
    "        'Titles': post.title,\n",
    "    })\n",
    "\n",
    "# Create a DataFrame from the post data\n",
    "posts_df = pd.DataFrame(post_data)\n",
    "\n",
    "# Print the resulting DataFrame\n",
    "posts_df"
   ]
  },
  {
   "cell_type": "code",
   "execution_count": 4,
   "id": "e05e850c-6bfd-4e1a-9f7b-4f212891e065",
   "metadata": {},
   "outputs": [
    {
     "data": {
      "text/plain": [
       "0"
      ]
     },
     "execution_count": 4,
     "metadata": {},
     "output_type": "execute_result"
    }
   ],
   "source": [
    "#remove duplicates\n",
    "posts_df.Titles.duplicated().sum()"
   ]
  },
  {
   "cell_type": "code",
   "execution_count": 5,
   "id": "682f1fa4-9c0f-4916-90f0-42c896dd7ba3",
   "metadata": {},
   "outputs": [
    {
     "data": {
      "text/html": [
       "<div>\n",
       "<style scoped>\n",
       "    .dataframe tbody tr th:only-of-type {\n",
       "        vertical-align: middle;\n",
       "    }\n",
       "\n",
       "    .dataframe tbody tr th {\n",
       "        vertical-align: top;\n",
       "    }\n",
       "\n",
       "    .dataframe thead th {\n",
       "        text-align: right;\n",
       "    }\n",
       "</style>\n",
       "<table border=\"1\" class=\"dataframe\">\n",
       "  <thead>\n",
       "    <tr style=\"text-align: right;\">\n",
       "      <th></th>\n",
       "      <th>Titles</th>\n",
       "    </tr>\n",
       "  </thead>\n",
       "  <tbody>\n",
       "    <tr>\n",
       "      <th>0</th>\n",
       "      <td>What is the difference between the liquid side...</td>\n",
       "    </tr>\n",
       "    <tr>\n",
       "      <th>1</th>\n",
       "      <td>Why are QR codes of the same address not ident...</td>\n",
       "    </tr>\n",
       "    <tr>\n",
       "      <th>2</th>\n",
       "      <td>RIP Charlie (rat poison) Munger</td>\n",
       "    </tr>\n",
       "    <tr>\n",
       "      <th>3</th>\n",
       "      <td>Charlie Munger dies at age 99</td>\n",
       "    </tr>\n",
       "    <tr>\n",
       "      <th>4</th>\n",
       "      <td>Self Custodial Lightning Wallets</td>\n",
       "    </tr>\n",
       "  </tbody>\n",
       "</table>\n",
       "</div>"
      ],
      "text/plain": [
       "                                              Titles\n",
       "0  What is the difference between the liquid side...\n",
       "1  Why are QR codes of the same address not ident...\n",
       "2                    RIP Charlie (rat poison) Munger\n",
       "3                      Charlie Munger dies at age 99\n",
       "4                   Self Custodial Lightning Wallets"
      ]
     },
     "execution_count": 5,
     "metadata": {},
     "output_type": "execute_result"
    }
   ],
   "source": [
    "#Create a function to clean the tweets\n",
    "def cleanTxt(text):\n",
    " text = re.sub(r'@[A-Za-z0–9]+', '', text) \n",
    " text = re.sub(r'#', '', text) \n",
    " text = re.sub(r'RT[\\s]+', '', text) \n",
    " text = re.sub(r'https?:\\/\\/\\S+', '', text) #Remove the hyperlinks\n",
    " text = re.sub(r':', '', text) # Remove :\n",
    " return text\n",
    "#Cleaning the text\n",
    "posts_df[\"Titles\"]= posts_df[\"Titles\"].apply(cleanTxt)\n",
    "#Show the clean text\n",
    "posts_df.head()"
   ]
  },
  {
   "cell_type": "code",
   "execution_count": 6,
   "id": "2cb0fe78-59d4-4907-920b-9326c0e21936",
   "metadata": {},
   "outputs": [
    {
     "data": {
      "text/html": [
       "<div>\n",
       "<style scoped>\n",
       "    .dataframe tbody tr th:only-of-type {\n",
       "        vertical-align: middle;\n",
       "    }\n",
       "\n",
       "    .dataframe tbody tr th {\n",
       "        vertical-align: top;\n",
       "    }\n",
       "\n",
       "    .dataframe thead th {\n",
       "        text-align: right;\n",
       "    }\n",
       "</style>\n",
       "<table border=\"1\" class=\"dataframe\">\n",
       "  <thead>\n",
       "    <tr style=\"text-align: right;\">\n",
       "      <th></th>\n",
       "      <th>Titles</th>\n",
       "    </tr>\n",
       "  </thead>\n",
       "  <tbody>\n",
       "    <tr>\n",
       "      <th>0</th>\n",
       "      <td>What is the difference between the liquid side...</td>\n",
       "    </tr>\n",
       "    <tr>\n",
       "      <th>1</th>\n",
       "      <td>Why are QR codes of the same address not ident...</td>\n",
       "    </tr>\n",
       "    <tr>\n",
       "      <th>2</th>\n",
       "      <td>RIP Charlie (rat poison) Munger</td>\n",
       "    </tr>\n",
       "    <tr>\n",
       "      <th>3</th>\n",
       "      <td>Charlie Munger dies at age 99</td>\n",
       "    </tr>\n",
       "    <tr>\n",
       "      <th>4</th>\n",
       "      <td>Self Custodial Lightning Wallets</td>\n",
       "    </tr>\n",
       "  </tbody>\n",
       "</table>\n",
       "</div>"
      ],
      "text/plain": [
       "                                              Titles\n",
       "0  What is the difference between the liquid side...\n",
       "1  Why are QR codes of the same address not ident...\n",
       "2                    RIP Charlie (rat poison) Munger\n",
       "3                      Charlie Munger dies at age 99\n",
       "4                   Self Custodial Lightning Wallets"
      ]
     },
     "execution_count": 6,
     "metadata": {},
     "output_type": "execute_result"
    }
   ],
   "source": [
    "def remove_emoji(string):\n",
    "     emoji_pattern = re.compile(\"[\"\n",
    "     u\"\\U0001F600-\\U0001F64F\" # emoticons\n",
    "     u\"\\U0001F300-\\U0001F5FF\" # symbols & pictographs\n",
    "     u\"\\U0001F680-\\U0001F6FF\" # transport & map symbols\n",
    "     u\"\\U0001F1E0-\\U0001F1FF\" # flags (iOS)\n",
    "     u\"\\U00002500-\\U00002BEF\" # chinese char\n",
    "     u\"\\U00002702-\\U000027B0\"\n",
    "     u\"\\U00002702-\\U000027B0\"\n",
    "     u\"\\U000024C2-\\U0001F251\"\n",
    "     u\"\\U0001f926-\\U0001f937\"\n",
    "     u\"\\U00010000-\\U0010ffff\"\n",
    "     u\"\\u2640-\\u2642\"\n",
    "     u\"\\u2600-\\u2B55\"\n",
    "     u\"\\u200d\"\n",
    "     u\"\\u23cf\"\n",
    "     u\"\\u23e9\"\n",
    "     u\"\\u231a\"\n",
    "     u\"\\ufe0f\" # dingbats\n",
    "     u\"\\u3030\"\n",
    "     \"]+\", flags=re.UNICODE)\n",
    "     return emoji_pattern.sub(r\"\", string)\n",
    "#Cleaning the text\n",
    "posts_df[\"Titles\"]= posts_df[\"Titles\"].apply(remove_emoji)\n",
    "#Show the clean text\n",
    "posts_df.head()"
   ]
  },
  {
   "cell_type": "code",
   "execution_count": 7,
   "id": "5ee3938e-effe-49bc-85cd-b795ebdfba4c",
   "metadata": {},
   "outputs": [],
   "source": [
    "nlp = spacy.load(\"en_core_web_sm\")"
   ]
  },
  {
   "cell_type": "code",
   "execution_count": 8,
   "id": "e485ef22-01e7-4b14-84e3-14f17be420bf",
   "metadata": {},
   "outputs": [],
   "source": [
    "# Function to get entities using spaCy\n",
    "def get_entities(title):\n",
    "    doc = nlp(title)\n",
    "    return [ent.text for ent in doc.ents]\n",
    "\n",
    "# Apply the function to the 'Title' column\n",
    "posts_df['Entities'] = posts_df['Titles'].apply(get_entities)"
   ]
  },
  {
   "cell_type": "code",
   "execution_count": 9,
   "id": "6896ed1d-bdbb-4316-b2bf-6f41f7cf9c01",
   "metadata": {},
   "outputs": [],
   "source": [
    "# Function to get only sentiment from TextBlob\n",
    "def get_textblob_sentiment(title):\n",
    "    analysis = TextBlob(title)\n",
    "    return 'Positive' if analysis.sentiment.polarity > 0 else 'Negative' if analysis.sentiment.polarity < 0 else 'Neutral'\n",
    "\n",
    "# Apply the function to the 'Title' column\n",
    "posts_df['Sentiment'] = posts_df['Titles'].apply(get_textblob_sentiment)"
   ]
  },
  {
   "cell_type": "code",
   "execution_count": 10,
   "id": "4b44204b-8bcc-4962-ad8f-7b560b067a65",
   "metadata": {},
   "outputs": [
    {
     "data": {
      "text/html": [
       "<div>\n",
       "<style scoped>\n",
       "    .dataframe tbody tr th:only-of-type {\n",
       "        vertical-align: middle;\n",
       "    }\n",
       "\n",
       "    .dataframe tbody tr th {\n",
       "        vertical-align: top;\n",
       "    }\n",
       "\n",
       "    .dataframe thead th {\n",
       "        text-align: right;\n",
       "    }\n",
       "</style>\n",
       "<table border=\"1\" class=\"dataframe\">\n",
       "  <thead>\n",
       "    <tr style=\"text-align: right;\">\n",
       "      <th></th>\n",
       "      <th>Titles</th>\n",
       "      <th>Entities</th>\n",
       "      <th>Sentiment</th>\n",
       "    </tr>\n",
       "  </thead>\n",
       "  <tbody>\n",
       "    <tr>\n",
       "      <th>0</th>\n",
       "      <td>What is the difference between the liquid side...</td>\n",
       "      <td>[]</td>\n",
       "      <td>Neutral</td>\n",
       "    </tr>\n",
       "    <tr>\n",
       "      <th>1</th>\n",
       "      <td>Why are QR codes of the same address not ident...</td>\n",
       "      <td>[]</td>\n",
       "      <td>Neutral</td>\n",
       "    </tr>\n",
       "    <tr>\n",
       "      <th>2</th>\n",
       "      <td>RIP Charlie (rat poison) Munger</td>\n",
       "      <td>[RIP Charlie, Munger]</td>\n",
       "      <td>Neutral</td>\n",
       "    </tr>\n",
       "    <tr>\n",
       "      <th>3</th>\n",
       "      <td>Charlie Munger dies at age 99</td>\n",
       "      <td>[Charlie Munger, age 99]</td>\n",
       "      <td>Neutral</td>\n",
       "    </tr>\n",
       "    <tr>\n",
       "      <th>4</th>\n",
       "      <td>Self Custodial Lightning Wallets</td>\n",
       "      <td>[]</td>\n",
       "      <td>Neutral</td>\n",
       "    </tr>\n",
       "  </tbody>\n",
       "</table>\n",
       "</div>"
      ],
      "text/plain": [
       "                                              Titles  \\\n",
       "0  What is the difference between the liquid side...   \n",
       "1  Why are QR codes of the same address not ident...   \n",
       "2                    RIP Charlie (rat poison) Munger   \n",
       "3                      Charlie Munger dies at age 99   \n",
       "4                   Self Custodial Lightning Wallets   \n",
       "\n",
       "                   Entities Sentiment  \n",
       "0                        []   Neutral  \n",
       "1                        []   Neutral  \n",
       "2     [RIP Charlie, Munger]   Neutral  \n",
       "3  [Charlie Munger, age 99]   Neutral  \n",
       "4                        []   Neutral  "
      ]
     },
     "execution_count": 10,
     "metadata": {},
     "output_type": "execute_result"
    }
   ],
   "source": [
    "posts_df.head()"
   ]
  },
  {
   "cell_type": "code",
   "execution_count": 11,
   "id": "a946ee36-4c18-4a48-9f21-9477e2b2e524",
   "metadata": {},
   "outputs": [
    {
     "name": "stdout",
     "output_type": "stream",
     "text": [
      "                                                Entity  Count\n",
      "0                                              Bitcoin     22\n",
      "1                                                first      4\n",
      "2                                             Coldcard      3\n",
      "3                                         Bitcoin Core      2\n",
      "4                                                  one      2\n",
      "..                                                 ...    ...\n",
      "129                      Bitcoin Is Useless\" Is a Fact      1\n",
      "130                                     Markus Thielen      1\n",
      "131  Bitcoin’s Resurgence Fueled by Anticipation of...      1\n",
      "132                                               CBDC      1\n",
      "133                             half a million dollars      1\n",
      "\n",
      "[134 rows x 2 columns]\n"
     ]
    }
   ],
   "source": [
    "# Flatten the 'Entities' lists and create a new DataFrame with entity counts\n",
    "entities_df = pd.DataFrame(posts_df['Entities'].explode().value_counts().reset_index())\n",
    "entities_df.columns = ['Entity', 'Count']\n",
    "\n",
    "# Display the entity counts DataFrame\n",
    "print(entities_df)"
   ]
  },
  {
   "cell_type": "code",
   "execution_count": 12,
   "id": "25cb08da-99f3-4992-b1ce-5e95c34ad2a3",
   "metadata": {},
   "outputs": [],
   "source": [
    "posts_df.to_csv(\"bitcoin_reddit.csv\",index=False)"
   ]
  },
  {
   "cell_type": "code",
   "execution_count": 13,
   "id": "629108a5-1103-412a-9c1d-56b24b417944",
   "metadata": {},
   "outputs": [],
   "source": [
    "entities_df.to_csv(\"entities_reddit.csv\",index=False)"
   ]
  }
 ],
 "metadata": {
  "kernelspec": {
   "display_name": "Python 3 (ipykernel)",
   "language": "python",
   "name": "python3"
  },
  "language_info": {
   "codemirror_mode": {
    "name": "ipython",
    "version": 3
   },
   "file_extension": ".py",
   "mimetype": "text/x-python",
   "name": "python",
   "nbconvert_exporter": "python",
   "pygments_lexer": "ipython3",
   "version": "3.11.5"
  }
 },
 "nbformat": 4,
 "nbformat_minor": 5
}
